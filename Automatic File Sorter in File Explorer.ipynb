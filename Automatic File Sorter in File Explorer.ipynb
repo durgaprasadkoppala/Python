{
 "cells": [
  {
   "cell_type": "code",
   "execution_count": 2,
   "id": "85092e61",
   "metadata": {},
   "outputs": [],
   "source": [
    "import os, shutil"
   ]
  },
  {
   "cell_type": "code",
   "execution_count": 21,
   "id": "37667d96",
   "metadata": {},
   "outputs": [],
   "source": [
    "path = r\"/Users/durgaprasadkoppala/NIU/Data Analyst Bootcamp/Sample_folder/\""
   ]
  },
  {
   "cell_type": "code",
   "execution_count": 24,
   "id": "b3552f82",
   "metadata": {},
   "outputs": [],
   "source": [
    "file_name = os.listdir(path)"
   ]
  },
  {
   "cell_type": "code",
   "execution_count": 32,
   "id": "58d2ce6d",
   "metadata": {},
   "outputs": [],
   "source": [
    "folder_names = ['csv files', 'image files', 'text files']\n",
    "\n",
    "for i in range(0,3):\n",
    "    if not os.path.exists(path + folder_names[i]):\n",
    "        print(path + folder_names[i])\n",
    "        os.makedirs(path + folder_names[i])\n",
    "        \n",
    "for file in file_name:\n",
    "    if \".csv\" in file and not os.path.exists(path+ \"csv files/\" + file):\n",
    "        shutil.move(path + file, path+\"csv files/\"+file)\n",
    "    elif \".jpeg\" in file and not os.path.exists(path + \"image files/\" + file):\n",
    "        shutil.move(path + file, path+\"image files/\"+file)\n",
    "    elif \".rtf\" in file and not os.path.exists(path + \"text files/\" + file):\n",
    "        shutil.move(path + file, path+\"text files/\"+file) "
   ]
  },
  {
   "cell_type": "code",
   "execution_count": 29,
   "id": "7f3ffe60",
   "metadata": {},
   "outputs": [],
   "source": [
    "\n",
    "    "
   ]
  }
 ],
 "metadata": {
  "kernelspec": {
   "display_name": "Python 3 (ipykernel)",
   "language": "python",
   "name": "python3"
  },
  "language_info": {
   "codemirror_mode": {
    "name": "ipython",
    "version": 3
   },
   "file_extension": ".py",
   "mimetype": "text/x-python",
   "name": "python",
   "nbconvert_exporter": "python",
   "pygments_lexer": "ipython3",
   "version": "3.10.9"
  }
 },
 "nbformat": 4,
 "nbformat_minor": 5
}
