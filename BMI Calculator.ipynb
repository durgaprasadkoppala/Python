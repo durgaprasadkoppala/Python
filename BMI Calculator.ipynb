{
 "cells": [
  {
   "cell_type": "markdown",
   "id": "e0b39ff9",
   "metadata": {},
   "source": [
    "# BMI Calculator\n"
   ]
  },
  {
   "cell_type": "code",
   "execution_count": 23,
   "id": "beb8d285",
   "metadata": {},
   "outputs": [
    {
     "name": "stdout",
     "output_type": "stream",
     "text": [
      "Enter you name: DP\n",
      "Enter your weight in pounds: 190\n",
      "Enter your height in inches: 67\n",
      "29.754956560481176\n",
      "DP, You are  overweight\n"
     ]
    }
   ],
   "source": [
    "name = input('Enter you name: ')\n",
    "\n",
    "weight = int(input(\"Enter your weight in pounds: \"))\n",
    "\n",
    "height = int(input(\"Enter your height in inches: \"))\n",
    "\n",
    "BMI = (weight * 703)/ (height * height)\n",
    "\n",
    "print(BMI)\n",
    "\n",
    "if BMI > 0:\n",
    "    if (BMI<18.5):\n",
    "        print(name + \", You are underweight\")\n",
    "    elif (BMI<=24.9):\n",
    "        print(name +\", You are normal weight\")\n",
    "    elif (BMI<=29.9):\n",
    "        print(name +\", You are  overweight\")\n",
    "    elif (BMI<=34.9):\n",
    "        print(name +\", You are normal obese\")\n",
    "    elif (BMI<=39.9):\n",
    "        print(name +\", You are severely obese\")\n",
    "    else:\n",
    "        print(name +\", your are morbidly obese\")\n",
    "else:\n",
    "    print(name +\", enter valid input\")\n"
   ]
  },
  {
   "cell_type": "code",
   "execution_count": 5,
   "id": "aef16315",
   "metadata": {},
   "outputs": [
    {
     "name": "stdout",
     "output_type": "stream",
     "text": [
      "145\n"
     ]
    }
   ],
   "source": [
    "print(weight)"
   ]
  },
  {
   "cell_type": "code",
   "execution_count": null,
   "id": "9049562f",
   "metadata": {},
   "outputs": [],
   "source": []
  },
  {
   "cell_type": "code",
   "execution_count": null,
   "id": "2a4dffd3",
   "metadata": {},
   "outputs": [],
   "source": []
  },
  {
   "cell_type": "code",
   "execution_count": null,
   "id": "e04b8266",
   "metadata": {},
   "outputs": [],
   "source": []
  },
  {
   "cell_type": "code",
   "execution_count": 12,
   "id": "55551b1b",
   "metadata": {},
   "outputs": [],
   "source": [
    "#BMI = (weight in pounds * 703)/ (height in inches x height in inches)"
   ]
  },
  {
   "cell_type": "code",
   "execution_count": null,
   "id": "608e48bd",
   "metadata": {},
   "outputs": [],
   "source": [
    "Under 18.5\tUnderweight\tMinimal\n",
    "18.5 - 24.9\tNormal Weight\tMinimal\n",
    "25 - 29.9\tOverweight\tIncreased\n",
    "30 - 34.9\tObese\tHigh\n",
    "35 - 39.9\tSeverely Obese\tVery High\n",
    "40 and over\tMorbidly Obese\tExtremely High"
   ]
  },
  {
   "cell_type": "code",
   "execution_count": 19,
   "id": "73e80205",
   "metadata": {},
   "outputs": [
    {
     "name": "stdout",
     "output_type": "stream",
     "text": [
      "You are normal weight\n"
     ]
    }
   ],
   "source": [
    "\n",
    "\n",
    "if BMI > 0:\n",
    "    if (BMI<18.5):\n",
    "        print(\"You are underweight\")\n",
    "    elif (BMI<=24.9):\n",
    "        print(\"You are normal weight\")\n",
    "    elif (BMI<=29.9):\n",
    "        print(\"You are  overweight\")\n",
    "    elif (BMI<=34.9):\n",
    "        print(\"You are normal obese\")\n",
    "    elif (BMI<=39.9):\n",
    "        print(\"You are severely obese\")\n",
    "    else:\n",
    "        print(\"your are morbidly obese\")\n",
    "else:\n",
    "    print(\"enter valid input\")\n"
   ]
  },
  {
   "cell_type": "code",
   "execution_count": null,
   "id": "3d36f219",
   "metadata": {},
   "outputs": [],
   "source": []
  },
  {
   "cell_type": "code",
   "execution_count": null,
   "id": "f3320e42",
   "metadata": {},
   "outputs": [],
   "source": []
  }
 ],
 "metadata": {
  "kernelspec": {
   "display_name": "Python 3 (ipykernel)",
   "language": "python",
   "name": "python3"
  },
  "language_info": {
   "codemirror_mode": {
    "name": "ipython",
    "version": 3
   },
   "file_extension": ".py",
   "mimetype": "text/x-python",
   "name": "python",
   "nbconvert_exporter": "python",
   "pygments_lexer": "ipython3",
   "version": "3.10.9"
  }
 },
 "nbformat": 4,
 "nbformat_minor": 5
}
